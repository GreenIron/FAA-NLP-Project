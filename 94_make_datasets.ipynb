{
 "cells": [
  {
   "cell_type": "markdown",
   "metadata": {},
   "source": [
    "# Create DRS+non-DRS dataset for haystack.deepset.ai\n",
    "Per https://haystack.deepset.ai/tutorials/08_preprocessing, Haystack expects data to be provided as a list of documents in the following dictionary format. See also https://docs.haystack.deepset.ai/docs/document_store\n",
    "```\n",
    "docs = [\n",
    "    {\n",
    "        'content': DOCUMENT_TEXT_HERE,                                                              \n",
    "        'meta': {'name': DOCUMENT_NAME, ...}\n",
    "    }, ...\n",
    "]\n",
    "```"
   ]
  },
  {
   "cell_type": "markdown",
   "metadata": {},
   "source": [
    "## Import DRS metadata"
   ]
  },
  {
   "cell_type": "code",
   "execution_count": 7,
   "metadata": {},
   "outputs": [],
   "source": [
    "import pandas as pd\n",
    "import numpy as np\n",
    "import os\n",
    "import glob\n",
    "\n",
    "metadata_mapping = pd.read_excel(os.path.join(os.getcwd(),\n",
    "                                              'data',\n",
    "                                              'DRS',\n",
    "                                              'index',\n",
    "                                              'FAA DRS',\n",
    "                                              'DRS Document Types Metadata Mapping.xlsx')) # from https://drs.faa.gov/help/helpdetails and https://drs.faa.gov/help/helpdetails\n",
    "\n",
    "doc_types = pd.unique(metadata_mapping.loc[:, \"Document Type Name in API request\"])\n",
    "doc_types = [val for val in doc_types if isinstance(val, str)]\n",
    "\n",
    "common_fields = []\n",
    "for n,doc_type in enumerate(doc_types):\n",
    "    metadata_names = metadata_mapping.loc[metadata_mapping.loc[:, \"Document Type Name in API request\"]==doc_type, \"Metadata Name in API Response \"]\n",
    "\n",
    "    if n>0:\n",
    "        common_fields = list(set(metadata_names) & set(common_fields))\n",
    "    else:\n",
    "        common_fields = list(set(metadata_names))"
   ]
  },
  {
   "cell_type": "markdown",
   "metadata": {},
   "source": [
    "Subset for which it was possible to split paragraphs"
   ]
  },
  {
   "cell_type": "code",
   "execution_count": 8,
   "metadata": {},
   "outputs": [],
   "source": [
    "doc_types = ['AC',\n",
    "            'ORDER_8300.10',\n",
    "            'ORDER_8400.10',\n",
    "            'ORDER_8700.1',\n",
    "            'ORDER_8740.1',\n",
    "            'ORDER_8900.1',\n",
    "            'ORDERS']"
   ]
  },
  {
   "cell_type": "code",
   "execution_count": 9,
   "metadata": {},
   "outputs": [],
   "source": [
    "df_drsmeta = None\n",
    "\n",
    "for doc_type in doc_types:\n",
    "    parquet_files = sorted(glob.glob(os.path.join(os.getcwd(),\n",
    "                                                  'data', \n",
    "                                                  'DRS', \n",
    "                                                  'index', \n",
    "                                                  doc_type+'_202*.parquet')), \n",
    "                        key=os.path.getctime, \n",
    "                        reverse=True)\n",
    "\n",
    "    if len(parquet_files)>0:\n",
    "        this_parquet = pd.read_parquet(parquet_files[0])\n",
    "        this_parquet.insert(0, \n",
    "                            \"doc_type\", \n",
    "                            value=pd.Series(data=doc_type, index=this_parquet.index, dtype=\"string\"))\n",
    "\n",
    "        if df_drsmeta is None:\n",
    "            df_drsmeta = this_parquet\n",
    "        else:\n",
    "            df_drsmeta = pd.concat([this_parquet,\n",
    "                                    df_drsmeta])"
   ]
  },
  {
   "cell_type": "markdown",
   "metadata": {},
   "source": [
    "## Import DRS or non-DRS pre-dataset"
   ]
  },
  {
   "cell_type": "code",
   "execution_count": 10,
   "metadata": {},
   "outputs": [],
   "source": [
    "# source_type = 'DRS'\n",
    "source_type = 'NotInDRS'"
   ]
  },
  {
   "cell_type": "code",
   "execution_count": 11,
   "metadata": {},
   "outputs": [
    {
     "name": "stdout",
     "output_type": "stream",
     "text": [
      "c:\\Users\\victor\\Documents\\DeepLearning\\FAA NLP Project\\data\\NotInDRS\\dataset\\extracted_text\\extracted_text (augmented)_for_DocNotInDRS-20240128 - 213311.parquet\n"
     ]
    },
    {
     "data": {
      "text/html": [
       "<div>\n",
       "<style scoped>\n",
       "    .dataframe tbody tr th:only-of-type {\n",
       "        vertical-align: middle;\n",
       "    }\n",
       "\n",
       "    .dataframe tbody tr th {\n",
       "        vertical-align: top;\n",
       "    }\n",
       "\n",
       "    .dataframe thead th {\n",
       "        text-align: right;\n",
       "    }\n",
       "</style>\n",
       "<table border=\"1\" class=\"dataframe\">\n",
       "  <thead>\n",
       "    <tr style=\"text-align: right;\">\n",
       "      <th></th>\n",
       "      <th>filename</th>\n",
       "      <th>position in bookmark tree</th>\n",
       "      <th>original pdf bookmark title (outline.title)</th>\n",
       "      <th>original pdf bookmark page number</th>\n",
       "    </tr>\n",
       "  </thead>\n",
       "  <tbody>\n",
       "    <tr>\n",
       "      <th>1543</th>\n",
       "      <td>Pilot Controller Glossary Basic with Change 1.pdf</td>\n",
       "      <td>20</td>\n",
       "      <td>S</td>\n",
       "      <td>118</td>\n",
       "    </tr>\n",
       "    <tr>\n",
       "      <th>1544</th>\n",
       "      <td>Pilot Controller Glossary Basic with Change 1.pdf</td>\n",
       "      <td>21</td>\n",
       "      <td>T</td>\n",
       "      <td>130</td>\n",
       "    </tr>\n",
       "    <tr>\n",
       "      <th>1545</th>\n",
       "      <td>Pilot Controller Glossary Basic with Change 1.pdf</td>\n",
       "      <td>22</td>\n",
       "      <td>U</td>\n",
       "      <td>142</td>\n",
       "    </tr>\n",
       "    <tr>\n",
       "      <th>1546</th>\n",
       "      <td>Pilot Controller Glossary Basic with Change 1.pdf</td>\n",
       "      <td>23</td>\n",
       "      <td>V</td>\n",
       "      <td>144</td>\n",
       "    </tr>\n",
       "    <tr>\n",
       "      <th>1547</th>\n",
       "      <td>Pilot Controller Glossary Basic with Change 1.pdf</td>\n",
       "      <td>24</td>\n",
       "      <td>W</td>\n",
       "      <td>150</td>\n",
       "    </tr>\n",
       "  </tbody>\n",
       "</table>\n",
       "</div>"
      ],
      "text/plain": [
       "                                               filename  \\\n",
       "1543  Pilot Controller Glossary Basic with Change 1.pdf   \n",
       "1544  Pilot Controller Glossary Basic with Change 1.pdf   \n",
       "1545  Pilot Controller Glossary Basic with Change 1.pdf   \n",
       "1546  Pilot Controller Glossary Basic with Change 1.pdf   \n",
       "1547  Pilot Controller Glossary Basic with Change 1.pdf   \n",
       "\n",
       "     position in bookmark tree original pdf bookmark title (outline.title)  \\\n",
       "1543                        20                                           S   \n",
       "1544                        21                                           T   \n",
       "1545                        22                                           U   \n",
       "1546                        23                                           V   \n",
       "1547                        24                                           W   \n",
       "\n",
       "     original pdf bookmark page number  \n",
       "1543                               118  \n",
       "1544                               130  \n",
       "1545                               142  \n",
       "1546                               144  \n",
       "1547                               150  "
      ]
     },
     "execution_count": 11,
     "metadata": {},
     "output_type": "execute_result"
    }
   ],
   "source": [
    "import pandas as pd\n",
    "import glob\n",
    "import os\n",
    "\n",
    "predatasets = sorted(glob.glob(os.path.join(os.getcwd(), \n",
    "                                            'data', \n",
    "                                            source_type, \n",
    "                                            'dataset', \n",
    "                                            'extracted_text', \n",
    "                                            '*.parquet')), \n",
    "                    key=os.path.getctime, \n",
    "                    reverse=True)\n",
    "print(predatasets[0])\n",
    "df_predataset = pd.read_parquet(predatasets[0])\n",
    "\n",
    "df_predataset.tail()"
   ]
  },
  {
   "cell_type": "markdown",
   "metadata": {},
   "source": [
    "## Create dataset that is haystack.deepset friendly"
   ]
  },
  {
   "cell_type": "code",
   "execution_count": 12,
   "metadata": {},
   "outputs": [],
   "source": [
    "if source_type=='DRS':\n",
    "    df_dataset = pd.merge(df_predataset, df_drsmeta, on='documentGuid', how='inner').dropna(axis=1, how='all')\n",
    "    df_dataset.insert(loc=0, column='content', value=pd.Series(df_dataset.shape[0]*[''], dtype=\"string\"))\n",
    "    df_dataset.insert(loc=0, column='parents_title_list', value=pd.Series(df_dataset.shape[0]*[''], dtype=\"string\"))\n",
    "elif source_type=='NotInDRS':\n",
    "    df_dataset = df_predataset\n",
    "    df_dataset.insert(loc=0, column='content', value=pd.Series(df_dataset.shape[0]*[''], dtype=\"string\"))\n",
    "    df_dataset.insert(loc=0, column='parents_title_list', value=pd.Series(df_dataset.shape[0]*[''], dtype=\"string\"))\n",
    "    df_dataset.insert(loc=0, column='drs:title', value=pd.Series(df_dataset['filename'].replace(to_replace=r'\\.pdf$', value='', regex=True), dtype=\"string\"))\n",
    "    df_dataset.insert(loc=0, column='documentGuid', value=pd.Series(df_dataset['filename'].replace(to_replace=r'\\.pdf$', value='', regex=True), dtype=\"string\"))\n",
    "    df_dataset.insert(loc=0, column='drs:status', value=pd.Series(df_dataset.shape[0]*['Current'], dtype=\"string\"))\n",
    "    df_dataset.insert(loc=0, column='doc_type', value=pd.Series(df_dataset.shape[0]*['NotInDRS'], dtype=\"string\"))\n",
    "    df_dataset.insert(loc=0, column='corrected pdf bookmark page number', value=pd.Series(df_dataset['original pdf bookmark page number'], dtype=\"string\"))\n",
    "    df_dataset.insert(loc=0, column='extracted title text', value=pd.Series(df_dataset['original pdf bookmark title (outline.title)'], dtype=\"string\"))"
   ]
  },
  {
   "cell_type": "code",
   "execution_count": null,
   "metadata": {},
   "outputs": [],
   "source": [
    "if source_type=='DRS':\n",
    "    from PyPDF2 import PdfReader\n",
    "elif source_type=='NotInDRS':\n",
    "    from pypdf import PdfReader\n",
    "\n",
    "import glob\n",
    "import re\n",
    "import logging\n",
    "import datetime\n",
    "\n",
    "logging.basicConfig(filename='94_make_datasets.log', encoding='utf-8',format='%(asctime)s %(message)s', level=logging.INFO)\n",
    "\n",
    "def get_parents_title_list(position_in_bookmark_tree, df_dataset):\n",
    "    parents_title_list = [df_dataset['drs:title'][0]]\n",
    "    parent_title_number_list = position_in_bookmark_tree.split(\">\")\n",
    "\n",
    "    for n in range(1,len(parent_title_number_list)+1):\n",
    "        matching_index = df_dataset[df_dataset[\"position in bookmark tree\"]==\">\".join(parent_title_number_list[0:n])].index[0]        \n",
    "        parents_title_list.append(df_dataset.loc[matching_index, \"original pdf bookmark title (outline.title)\"])  # extracted title text extracted title number\n",
    "        \n",
    "    return str(parents_title_list)\n",
    "\n",
    "\n",
    "def get_textcontent(pages, index, df_dataset, source_type):\n",
    "    first_page = int(df_dataset.loc[index, 'corrected pdf bookmark page number'])\n",
    "\n",
    "    if index in [df_dataset.shape[0]-1, df_dataset.index[-1]]:\n",
    "        last_page = len(pages)-1 # index starts from 0\n",
    "    else:\n",
    "        try:\n",
    "            last_page = int(df_dataset.loc[index+1, 'corrected pdf bookmark page number'])\n",
    "        except Exception as e: # last bookmark\n",
    "            n=1\n",
    "            while (n<20):\n",
    "                n = n+1\n",
    "                try:\n",
    "                    last_page = int(df_dataset.loc[index+n, 'corrected pdf bookmark page number'])\n",
    "                    logging.info(\"Degraded mode for last_page, use different next index \"+ str(n) + \" with\"+\n",
    "                                \"\\ndocumentGuid=\"+df_dataset.loc[index+n, \"documentGuid\"]+\n",
    "                                \"\\nposition in bookmark tree=\"+df_dataset.loc[index+n, \"position in bookmark tree\"]+\n",
    "                                \"\\ntitle=\"+df_dataset.loc[index+n, \"original pdf bookmark title (outline.title)\"])\n",
    "                    break\n",
    "                except Exception as e:\n",
    "                    pass                \n",
    "            if n==20:\n",
    "                last_page = len(pages)-1\n",
    "                logging.info(\"Degraded mode for last_page, use len(pages)-1 with\"+\n",
    "                            \"\\ndocumentGuid=\"+df_dataset.loc[index, \"documentGuid\"])\n",
    "                \n",
    "    textcontent = []\n",
    "\n",
    "    for n in range(first_page, last_page+1):\n",
    "        if n==first_page:\n",
    "            try:\n",
    "                if source_type=='DRS':\n",
    "                    re_search = re.search(re.escape(df_dataset.loc[index, 'first 20 characters after title']), \n",
    "                                        pages[n].extract_text())\n",
    "                    start_textcontent = re_search.span()[0]\n",
    "                elif source_type=='NotInDRS':\n",
    "                    re_search = re.search(re.escape(df_dataset.loc[index, 'original pdf bookmark title (outline.title)']), \n",
    "                                        pages[n].extract_text())\n",
    "                    start_textcontent = re_search.span()[-1]\n",
    "\n",
    "            except Exception as e:\n",
    "                logging.info(\"Error identifying start_textcontent with \"+ e.args[0] +\n",
    "                             \"\\ndocumentGuid=\"+df_dataset.loc[index, \"documentGuid\"]+\n",
    "                             \"\\nfirst_page=\"+str(first_page)+\n",
    "                             \"\\nposition in bookmark tree=\"+df_dataset.loc[index, \"position in bookmark tree\"]+\n",
    "                             \"\\ntitle=\"+df_dataset.loc[index, \"original pdf bookmark title (outline.title)\"])\n",
    "                start_textcontent = 0\n",
    "        else:\n",
    "            start_textcontent = 0\n",
    "\n",
    "        if n==last_page:\n",
    "            try:\n",
    "                if source_type=='DRS':\n",
    "                    re_search = re.search(re.escape(df_dataset.loc[index+1, 'extracted title number'])+\n",
    "                                        '.{0,5}'+\n",
    "                                        re.escape(df_dataset.loc[index+1, 'extracted title text']), \n",
    "                                        pages[n].extract_text())                                    \n",
    "                    end_textcontent = re_search.span()[0]\n",
    "                elif source_type=='NotInDRS':\n",
    "                    re_search = re.search(re.escape(df_dataset.loc[index+1, 'original pdf bookmark title (outline.title)']), \n",
    "                                        pages[n].extract_text())\n",
    "                    end_textcontent = re_search.span()[0]\n",
    "\n",
    "            except Exception as e:\n",
    "                logging.info(\"Error identifying end_textcontent with \"+ e.args[0] +\n",
    "                             \"\\ndocumentGuid=\"+df_dataset.loc[index, \"documentGuid\"]+\n",
    "                             \"\\nlast_page=\"+str(last_page)+\n",
    "                             \"\\nposition in bookmark tree=\"+df_dataset.loc[index, \"position in bookmark tree\"]+\n",
    "                             \"\\ntitle=\"+df_dataset.loc[index, \"original pdf bookmark title (outline.title)\"])\n",
    "                end_textcontent = None\n",
    "        else:\n",
    "            end_textcontent = None\n",
    "\n",
    "        textcontent.append(pages[n].extract_text()[start_textcontent:end_textcontent])\n",
    "            \n",
    "    return str(textcontent)\n",
    "\n",
    "\n",
    "for index, row in df_dataset.iterrows():\n",
    "    matching_file = glob.glob(os.path.join(os.getcwd(), 'data', source_type, 'raw data', row[\"doc_type\"], 'pdf', '*'+row['documentGuid']+'*.pdf'))\n",
    "    if (len(matching_file)>0) and (row['drs:status']=='Current'):\n",
    "        pdf = PdfReader(matching_file[0])\n",
    "        df_dataset_filtered = df_dataset[df_dataset[\"documentGuid\"]==row[\"documentGuid\"]]\n",
    "\n",
    "        try:\n",
    "            df_dataset.at[index, 'parents_title_list'] = get_parents_title_list(row[\"position in bookmark tree\"],\n",
    "                                                                                df_dataset_filtered)        \n",
    "            df_dataset.at[index, 'content'] = get_textcontent(pdf.pages, \n",
    "                                                              index, \n",
    "                                                              df_dataset_filtered,\n",
    "                                                              source_type)\n",
    "        except Exception as e:\n",
    "            logging.info(\"Error with \"+ e.args[0] +\n",
    "                         \"\\ndocumentGuid=\"+df_dataset_filtered.loc[index, \"documentGuid\"]+\n",
    "                         \"\\nposition in bookmark tree=\"+df_dataset_filtered.loc[index, \"position in bookmark tree\"]+\n",
    "                         \"\\ntitle=\"+df_dataset_filtered.loc[index, \"original pdf bookmark title (outline.title)\"])\n",
    "\n",
    "\n",
    "df_dataset.to_parquet(os.path.join(os.getcwd(),\n",
    "                                   'data', \n",
    "                                   source_type, \n",
    "                                   'dataset',\n",
    "                                   'dataset',\n",
    "                                   'dataset_for_'+'-'.join(doc_types)+'-'+datetime.datetime.now().strftime(\"%Y%m%d - %H%M%S\")+'.parquet'))"
   ]
  },
  {
   "cell_type": "markdown",
   "metadata": {},
   "source": [
    "## Some metric\n",
    "Number of documents total, number of documents per entry, histogram of number of words total, histogram of doc per doc type, nombre de doc pas dl"
   ]
  },
  {
   "cell_type": "code",
   "execution_count": 14,
   "metadata": {},
   "outputs": [],
   "source": [
    "import pandas as pd\n",
    "import glob\n",
    "import os\n",
    "\n",
    "datasets = sorted(glob.glob(os.path.join(os.getcwd(), \n",
    "                                         'data', \n",
    "                                         source_type, \n",
    "                                         'dataset', \n",
    "                                         'dataset', \n",
    "                                         '*.parquet')), \n",
    "                      key=os.path.getctime, \n",
    "                      reverse=True)\n",
    "df_dataset = pd.read_parquet(datasets[0])"
   ]
  },
  {
   "cell_type": "code",
   "execution_count": 43,
   "metadata": {},
   "outputs": [],
   "source": [
    "df_exploring = df_dataset[(300<df_nbwords) & (df_nbwords<400)][['documentGuid', \n",
    "                                                                'corrected pdf bookmark page number', \n",
    "                                                                'extracted title text', \n",
    "                                                                'parents_title_list',\n",
    "                                                                'content']]"
   ]
  },
  {
   "cell_type": "code",
   "execution_count": 37,
   "metadata": {},
   "outputs": [
    {
     "name": "stdout",
     "output_type": "stream",
     "text": [
      "There are 22 documents over 1548 with less then 5 words extracted for all docs for NotInDRS documents\n"
     ]
    },
    {
     "data": {
      "image/png": "[encoded data removed]",
      "text/plain": [
       "<Figure size 640x480 with 1 Axes>"
      ]
     },
     "metadata": {},
     "output_type": "display_data"
    },
    {
     "data": {
      "image/png": "[encoded data removed]",
      "text/plain": [
       "<Figure size 640x480 with 1 Axes>"
      ]
     },
     "metadata": {},
     "output_type": "display_data"
    },
    {
     "data": {
      "image/png": "[encoded data removed]",
      "text/plain": [
       "<Figure size 640x480 with 1 Axes>"
      ]
     },
     "metadata": {},
     "output_type": "display_data"
    }
   ],
   "source": [
    "import matplotlib.pyplot as plt\n",
    "import numpy as np\n",
    "import pandas as pd\n",
    "\n",
    "plt.rcParams['figure.dpi'] = 100\n",
    "plt.rcParams['figure.figsize'] = 6.4, 4.8\n",
    "\n",
    "nb_words = 5\n",
    "nb_words_max = 40000 \n",
    "\n",
    "# All docs\n",
    "df_nbwords = df_dataset['content'].apply(len)\n",
    "nb_zerowords_docs = df_nbwords[df_nbwords<nb_words].shape[0]\n",
    "print('There are %s documents over %s with less then %s words extracted for all docs for %s documents' % \n",
    "      (nb_zerowords_docs, df_nbwords.shape[0], nb_words, source_type))\n",
    "\n",
    "df_nbwords[df_nbwords<nb_words_max].hist(bins=100)\n",
    "plt.title(\"Number of extracted words all docs\")\n",
    "plt.show()\n",
    "\n",
    "ax = df_nbwords[df_nbwords<50].hist(bins=100)\n",
    "plt.title(\"Number of extracted words all docs with less than 500 words (for dense retrieval)\")\n",
    "plt.show()\n",
    "\n",
    "df_nbwords[df_nbwords>nb_words_max].hist(bins=100)\n",
    "plt.title(\"Number of extracted words all docs\")\n",
    "plt.show()\n",
    "\n",
    "df_dataset_manywords = df_dataset.loc[df_nbwords[df_nbwords>nb_words_max].index][['documentGuid', \n",
    "                                                                                  'corrected pdf bookmark page number', \n",
    "                                                                                  'extracted title text', \n",
    "                                                                                  'parents_title_list',\n",
    "                                                                                  'content']]\n",
    "\n",
    "# By doc for DRS\n",
    "if source_type=='DRS':\n",
    "    for doc_type in doc_types:\n",
    "        df_nbwords = df_dataset.loc[df_dataset[df_dataset['doc_type']==doc_type].index, 'content'].apply(len)\n",
    "        nb_zerowords_docs = df_nbwords[df_nbwords<nb_words].shape[0]\n",
    "        print('There are %s documents over %s with less then %s words extracted for %s for %s documents' % \n",
    "              (nb_zerowords_docs, df_nbwords.shape[0], nb_words, doc_type, source_type))\n",
    "\n",
    "        df_nbwords = df_nbwords[df_nbwords>=nb_words]\n",
    "        df_nbwords.hist(bins=100) # .plot.bar() # plt.yticks(fontsize=10)\n",
    "        plt.xlim(left=0, right=4000)\n",
    "        plt.title(\"Number of extracted words for \"+doc_type)\n",
    "        plt.show()"
   ]
  },
  {
   "cell_type": "markdown",
   "metadata": {},
   "source": [
    "## Exploring some examples to find patterns"
   ]
  },
  {
   "cell_type": "code",
   "execution_count": 8,
   "metadata": {},
   "outputs": [
    {
     "name": "stderr",
     "output_type": "stream",
     "text": [
      "C:\\Users\\victor\\AppData\\Local\\Temp\\ipykernel_12708\\3165917587.py:8: SettingWithCopyWarning: \n",
      "A value is trying to be set on a copy of a slice from a DataFrame.\n",
      "Try using .loc[row_indexer,col_indexer] = value instead\n",
      "\n",
      "See the caveats in the documentation: https://pandas.pydata.org/pandas-docs/stable/user_guide/indexing.html#returning-a-view-versus-a-copy\n",
      "  df_dataset_debug['size content'] = df_dataset['content'].apply(len)\n"
     ]
    }
   ],
   "source": [
    "import matplotlib.pyplot as plt\n",
    "import numpy as np\n",
    "import pandas as pd\n",
    "\n",
    "nb_words = 5\n",
    "fields = ['content', 'parents_title_list', 'documentURL']\n",
    "df_dataset_debug = df_dataset[fields]\n",
    "df_dataset_debug['size content'] = df_dataset['content'].apply(len)\n",
    "df_dataset_debug = df_dataset_debug.sort_values(by=['size content'])"
   ]
  },
  {
   "cell_type": "markdown",
   "metadata": {},
   "source": [
    "### Adding the FARs"
   ]
  },
  {
   "cell_type": "code",
   "execution_count": 1,
   "metadata": {},
   "outputs": [
    {
     "name": "stdout",
     "output_type": "stream",
     "text": [
      "c:\\Users\\victor\\Documents\\DeepLearning\\FAA NLP Project\\data\\DRS\\index\\FAR_20240115 - 224301.parquet\n"
     ]
    },
    {
     "name": "stderr",
     "output_type": "stream",
     "text": [
      "c:\\Users\\victor\\anaconda3\\envs\\faa-nlp-drs\\Lib\\site-packages\\pyarrow\\pandas_compat.py:373: FutureWarning: is_sparse is deprecated and will be removed in a future version. Check `isinstance(dtype, pd.SparseDtype)` instead.\n",
      "  if _pandas_api.is_sparse(col):\n"
     ]
    }
   ],
   "source": [
    "import pandas as pd\n",
    "import os\n",
    "import glob\n",
    "import datetime\n",
    "\n",
    "parquet_files = sorted(glob.glob(os.path.join(os.getcwd(),\n",
    "                                                'data', \n",
    "                                                'DRS', \n",
    "                                                'index', \n",
    "                                                'FAR_20*.parquet')), \n",
    "                    key=os.path.getctime, \n",
    "                    reverse=True)\n",
    "print(parquet_files[0])\n",
    "df_FAR_dataset = pd.read_parquet(parquet_files[0])\n",
    "df_FAR_dataset.insert(loc=0, \n",
    "                      column='content', \n",
    "                      value=pd.Series(df_FAR_dataset.shape[0]*[''], dtype=\"string\"))\n",
    "\n",
    "for index, row in df_FAR_dataset.iterrows():\n",
    "    file_matches = sorted(glob.glob(os.path.join(os.getcwd(),\n",
    "                                                'data',\n",
    "                                                'DRS',\n",
    "                                                'raw data',\n",
    "                                                'FAR',\n",
    "                                                'pdf',\n",
    "                                                '*'+row['documentGuid']+'.txt')\n",
    "                                    ),\n",
    "                                    key=os.path.getsize)\n",
    "    if len(file_matches)>0:\n",
    "        with open(file_matches[0], \"r\") as f:\n",
    "            df_FAR_dataset.loc[index, 'content'] = f.read()\n",
    "\n",
    "df_FAR_dataset.to_parquet(os.path.join(os.getcwd(),\n",
    "                                       'data',\n",
    "                                       'DRS', \n",
    "                                       'dataset',\n",
    "                                       'FAR',\n",
    "                                       'dataset_for_-FAR-'+datetime.datetime.now().strftime(\"%Y%m%d - %H%M%S\")+'.parquet'))"
   ]
  },
  {
   "cell_type": "code",
   "execution_count": 2,
   "metadata": {},
   "outputs": [
    {
     "name": "stdout",
     "output_type": "stream",
     "text": [
      "c:\\Users\\victor\\Documents\\DeepLearning\\FAA NLP Project\\data\\DRS\\dataset\\FAR\\dataset_for_-FAR-20240227 - 043028.parquet\n"
     ]
    }
   ],
   "source": [
    "import pandas as pd\n",
    "import os\n",
    "import glob\n",
    "import datetime\n",
    "\n",
    "predatasets = sorted(glob.glob(os.path.join(os.getcwd(), \n",
    "                                            'data', \n",
    "                                            'DRS', \n",
    "                                            'dataset', \n",
    "                                            'FAR', \n",
    "                                            'dataset_for_-FAR-*.parquet')), \n",
    "                    key=os.path.getctime, \n",
    "                    reverse=True)\n",
    "print(predatasets[0])\n",
    "df_FAR_dataset = pd.read_parquet(predatasets[0])"
   ]
  },
  {
   "cell_type": "markdown",
   "metadata": {},
   "source": [
    "## Dataset with AIP, AIM, FARs, ACs, Orders"
   ]
  },
  {
   "cell_type": "code",
   "execution_count": 3,
   "metadata": {},
   "outputs": [
    {
     "name": "stdout",
     "output_type": "stream",
     "text": [
      "c:\\Users\\victor\\Documents\\DeepLearning\\FAA NLP Project\\data\\DRS\\dataset\\dataset\\dataset_for_AC-ORDER_8300.10-ORDER_8400.10-ORDER_8700.1-ORDER_8740.1-ORDER_8900.1-ORDERS-20240127 - 111830.parquet\n",
      "c:\\Users\\victor\\Documents\\DeepLearning\\FAA NLP Project\\data\\NotInDRS\\dataset\\dataset\\dataset_for_AC-ORDER_8300.10-ORDER_8400.10-ORDER_8700.1-ORDER_8740.1-ORDER_8900.1-ORDERS-20240128 - 221738.parquet\n",
      "c:\\Users\\victor\\Documents\\DeepLearning\\FAA NLP Project\\data\\DRS\\dataset\\FAR\\dataset_for_-FAR-20240227 - 043028.parquet\n"
     ]
    },
    {
     "name": "stderr",
     "output_type": "stream",
     "text": [
      "c:\\Users\\victor\\anaconda3\\envs\\faa-nlp-drs\\Lib\\site-packages\\pyarrow\\pandas_compat.py:373: FutureWarning: is_sparse is deprecated and will be removed in a future version. Check `isinstance(dtype, pd.SparseDtype)` instead.\n",
      "  if _pandas_api.is_sparse(col):\n"
     ]
    }
   ],
   "source": [
    "import pandas as pd\n",
    "import os\n",
    "import glob\n",
    "\n",
    "# DRS\n",
    "predatasets = sorted(glob.glob(os.path.join(os.getcwd(), \n",
    "                                            'data', \n",
    "                                            'DRS', \n",
    "                                            'dataset', \n",
    "                                            'dataset', \n",
    "                                            '*.parquet')), \n",
    "                    key=os.path.getctime, \n",
    "                    reverse=True)\n",
    "print(predatasets[0])\n",
    "df_DRS_dataset = pd.read_parquet(predatasets[0])\n",
    "\n",
    "# Non-DRS\n",
    "predatasets = sorted(glob.glob(os.path.join(os.getcwd(), \n",
    "                                            'data', \n",
    "                                            'NotInDRS', \n",
    "                                            'dataset', \n",
    "                                            'dataset', \n",
    "                                            '*.parquet')), \n",
    "                    key=os.path.getctime, \n",
    "                    reverse=True)\n",
    "print(predatasets[0])\n",
    "df_NotInDRS_dataset = pd.read_parquet(predatasets[0])\n",
    "\n",
    "# FAR\n",
    "predatasets = sorted(glob.glob(os.path.join(os.getcwd(), \n",
    "                                            'data', \n",
    "                                            'DRS', \n",
    "                                            'dataset', \n",
    "                                            'FAR', \n",
    "                                            'dataset_for_-FAR-*.parquet')), \n",
    "                    key=os.path.getctime, \n",
    "                    reverse=True)\n",
    "print(predatasets[0])\n",
    "df_FAR_dataset = pd.read_parquet(predatasets[0])\n",
    "\n",
    "# Together\n",
    "df_dataset = pd.concat([df_DRS_dataset,\n",
    "                        df_NotInDRS_dataset,\n",
    "                        df_FAR_dataset])\n",
    "\n",
    "df_dataset.to_parquet(os.path.join(os.getcwd(),\n",
    "                                       'data',\n",
    "                                       'DRS', \n",
    "                                       'dataset',\n",
    "                                       'all_drs',\n",
    "                                       'dataset_for_-FAR-ORDERS-ACs-AIP-AIM-'+datetime.datetime.now().strftime(\"%Y%m%d - %H%M%S\")+'.parquet'))"
   ]
  },
  {
   "cell_type": "markdown",
   "metadata": {},
   "source": [
    "# Other datasets format"
   ]
  },
  {
   "cell_type": "code",
   "execution_count": 1,
   "metadata": {},
   "outputs": [
    {
     "name": "stdout",
     "output_type": "stream",
     "text": [
      "/home/victor/NLP/FAA-NLP-Project/data/DRS/dataset/all_drs/dataset_for_-FAR-ORDERS-ACs-AIP-AIM-20240301 - 034459.parquet\n"
     ]
    }
   ],
   "source": [
    "import pandas as pd\n",
    "import os\n",
    "import glob\n",
    "import datetime\n",
    "\n",
    "predatasets = sorted(glob.glob(os.path.join(os.getcwd(), \n",
    "                                            'data', \n",
    "                                            'DRS', \n",
    "                                            'dataset', \n",
    "                                            'all_drs', \n",
    "                                            'dataset_for_-FAR-ORDERS-ACs-AIP-AIM-*.parquet')), \n",
    "                    key=os.path.getctime, \n",
    "                    reverse=True)\n",
    "print(predatasets[0])\n",
    "df_dataset = pd.read_parquet(predatasets[0])\n",
    "df_dataset = df_dataset.reset_index()"
   ]
  },
  {
   "cell_type": "code",
   "execution_count": 2,
   "metadata": {},
   "outputs": [
    {
     "data": {
      "text/plain": [
       "index                                                                                       4780\n",
       "parents_title_list                             [4304    Airworthiness Approval of Enhanced Vi...\n",
       "content                                        ['4 CFR § 1.1) - A specified altitude in an in...\n",
       "documentGuid                                                    C2774DBA5FFEE8D286258088005528A9\n",
       "position in bookmark tree                                                          5>2>1>1>8>0>5\n",
       "original pdf bookmark title (outline.title)    I.1.6 Decision Altitude (14 CFR § 1.1) - A spe...\n",
       "original pdf bookmark page number                                                             94\n",
       "corrected pdf bookmark page number                                                            94\n",
       "extracted title number                                                                    I.1.6 \n",
       "extracted title text                                                        Decision Altitude (1\n",
       "first 20 characters after title                                   4 CFR § 1.1) - A specified alt\n",
       "nb_keywords for title search                                                                   5\n",
       "doc_type                                                                                      AC\n",
       "drs:documentNumber                                                                    AC 20-167A\n",
       "drs:status                                                                               Current\n",
       "drs:title                                      Airworthiness Approval of Enhanced Vision Syst...\n",
       "Name: 4780, dtype: object"
      ]
     },
     "execution_count": 2,
     "metadata": {},
     "output_type": "execute_result"
    }
   ],
   "source": [
    "df_dataset.iloc[4780][['index', \n",
    "                       'parents_title_list', \n",
    "                       'content', \n",
    "                       'documentGuid', \n",
    "                       'position in bookmark tree', \n",
    "                       'original pdf bookmark title (outline.title)', \n",
    "                       'original pdf bookmark page number', \n",
    "                       'corrected pdf bookmark page number', \n",
    "                       'extracted title number', \n",
    "                       'extracted title text', \n",
    "                       'first 20 characters after title', \n",
    "                       'nb_keywords for title search', \n",
    "                       'doc_type', \n",
    "                       'drs:documentNumber', \n",
    "                       'drs:status', \n",
    "                       'drs:title']]"
   ]
  },
  {
   "cell_type": "markdown",
   "metadata": {},
   "source": [
    "## Word count filtering"
   ]
  },
  {
   "cell_type": "code",
   "execution_count": null,
   "metadata": {},
   "outputs": [],
   "source": [
    "word_count_lower_limit = 30\n",
    "word_count_upper_limit = 100000"
   ]
  },
  {
   "cell_type": "markdown",
   "metadata": {},
   "source": [
    "## Generate JSONL\n",
    "Axolotl [pre-training](https://openaccess-ai-collective.github.io/axolotl/docs/dataset-formats/pretraining.html):\n",
    "`{\"text\": \"first row\"} {\"text\": \"second row\"}`"
   ]
  },
  {
   "cell_type": "code",
   "execution_count": 3,
   "metadata": {},
   "outputs": [],
   "source": [
    "import pandas as pd\n",
    "import os\n",
    "import glob\n",
    "\n",
    "df_jsonl = df_dataset[[\"drs:title\", \"parents_title_list\", \"content\"]]\n",
    "df_jsonl = df_jsonl.loc[word_count_lower_limit<df_jsonl[\"content\"].str.len()]\n",
    "df_jsonl = df_jsonl.loc[df_jsonl[\"content\"].str.len()<word_count_upper_limit]\n",
    "\n",
    "df_jsonl_title = df_jsonl[\"drs:title\"].map(lambda x: \"title:\\n \"+x+\"\\n\\n\")\n",
    "df_jsonl_parents_title_list = df_jsonl[\"parents_title_list\"].map(lambda x: \"document context and subtitles:\\n \"+'; '.join(x[2:-2].split('dtype: string')[-1].split(', '))+\"\\n\\n\" \n",
    "                                                                               if str(x)!='<NA>' \n",
    "                                                                               else \"\")\n",
    "df_jsonl_content = df_jsonl[\"content\"].map(lambda x: \"content:\\n \"+' '.join(x[2:-2].split(', ')))\n",
    "\n",
    "df_jsonl = pd.Series(df_jsonl_title+df_jsonl_parents_title_list+df_jsonl_content,\n",
    "                     name=\"text\").to_frame()\n",
    "\n",
    "df_jsonl.to_json(os.path.join(os.getcwd(),\n",
    "                            'data',\n",
    "                            'DRS', \n",
    "                            'dataset',\n",
    "                            'all_drs',\n",
    "                            'dataset_axolotl-pretraining_for_FAR-ORDERS-ACs-AIP-AIM-'+datetime.datetime.now().strftime(\"%Y%m%d - %H%M%S\")+'.jsonl'),\n",
    "                orient='records', \n",
    "                lines=True)"
   ]
  },
  {
   "cell_type": "markdown",
   "metadata": {},
   "source": [
    "Axolotl [oasst](https://openaccess-ai-collective.github.io/axolotl/docs/dataset-formats/inst_tune.html#oasst) fine-tuning:\n",
    "`{\"INSTRUCTION\": \"...\", \"RESPONSE\": \"...\"}`"
   ]
  },
  {
   "cell_type": "code",
   "execution_count": 21,
   "metadata": {},
   "outputs": [],
   "source": [
    "import pandas as pd\n",
    "import os\n",
    "import glob\n",
    "\n",
    "df_jsonl = df_dataset[[\"drs:title\", \"parents_title_list\", \"content\"]]\n",
    "df_jsonl = df_jsonl.loc[word_count_lower_limit<df_jsonl[\"content\"].str.len()]\n",
    "df_jsonl = df_jsonl.loc[df_jsonl[\"content\"].str.len()<word_count_upper_limit]\n",
    "\n",
    "df_jsonl_title = df_jsonl[\"drs:title\"].map(lambda x: \"title:\\n \"+x+\"\\n\\n\").astype(\"string\")\n",
    "df_jsonl_parents_title_list = df_jsonl[\"parents_title_list\"].map(lambda x: \"document context:\\n \"+'; '.join(x[2:-2].split('dtype: string')[-1].split(', '))+\"\\n\\n\" \n",
    "                                                                               if str(x)!='<NA>' \n",
    "                                                                               else \"\").astype(\"string\")\n",
    "df_jsonl_content = df_jsonl[\"content\"].map(lambda x: ' '.join(x[2:-2].split(', '))).astype(\"string\")\n",
    "\n",
    "\n",
    "INSTRUCTION_introduction = 'Can you provide more explanations given the following title and document context.\\n\\n'\n",
    "df_jsonl_INSTRUCTION = pd.Series(INSTRUCTION_introduction+df_jsonl_title+df_jsonl_parents_title_list, \n",
    "                                 dtype=\"string\",\n",
    "                                 name=\"INSTRUCTION\").astype(\"string\").to_frame()\n",
    "df_jsonl_RESPONSE = pd.Series(df_jsonl_content,\n",
    "                              dtype=\"string\",\n",
    "                              name=\"RESPONSE\").astype(\"string\").to_frame()\n",
    "df_jsonl = pd.concat([df_jsonl_INSTRUCTION[\"INSTRUCTION\"], df_jsonl_RESPONSE[\"RESPONSE\"]], axis=1)\n",
    "\n",
    "df_jsonl.to_json(os.path.join(os.getcwd(),\n",
    "                            'data',\n",
    "                            'DRS', \n",
    "                            'dataset',\n",
    "                            'all_drs',\n",
    "                            'dataset_axolotl-finetuning_for_FAR-ORDERS-ACs-AIP-AIM-'+datetime.datetime.now().strftime(\"%Y%m%d - %H%M%S\")+'.jsonl'),\n",
    "                orient='records', \n",
    "                lines=True)"
   ]
  },
  {
   "cell_type": "markdown",
   "metadata": {},
   "source": [
    "## Generate CSV\n",
    "For [Gemini](https://developers.googleblog.com/2024/03/tune-gemini-pro-in-google-ai-studio-or-gemini-api.html)"
   ]
  },
  {
   "cell_type": "code",
   "execution_count": 7,
   "metadata": {},
   "outputs": [],
   "source": [
    "import pandas as pd\n",
    "import os\n",
    "import glob\n",
    "\n",
    "df_jsonl = df_dataset[[\"drs:title\", \"parents_title_list\", \"content\"]]\n",
    "df_jsonl = df_jsonl.loc[word_count_lower_limit<df_jsonl[\"content\"].str.len()]\n",
    "df_jsonl = df_jsonl.loc[df_jsonl[\"content\"].str.len()<word_count_upper_limit]\n",
    "\n",
    "df_jsonl_title = df_jsonl[\"drs:title\"].map(lambda x: \"title:\\n \"+x+\"\\n\\n\")\n",
    "df_jsonl_parents_title_list = df_jsonl[\"parents_title_list\"].map(lambda x: \"document context and subtitles:\\n \"+'; '.join(x[2:-2].split('dtype: string')[-1].split(', '))+\"\\n\\n\" \n",
    "                                                                               if str(x)!='<NA>' \n",
    "                                                                               else \"\")\n",
    "df_jsonl_content = df_jsonl[\"content\"].map(lambda x: \"content:\\n \"+' '.join(x[2:-2].split(', ')))\n",
    "\n",
    "df_jsonl = df_jsonl_title+df_jsonl_parents_title_list+df_jsonl_content\n",
    "\n",
    "df_jsonl.to_csv(os.path.join(os.getcwd(),\n",
    "                            'data',\n",
    "                            'DRS', \n",
    "                            'dataset',\n",
    "                            'all_drs',\n",
    "                            'dataset_gemini_for_FAR-ORDERS-ACs-AIP-AIM-'+datetime.datetime.now().strftime(\"%Y%m%d - %H%M%S\")+'.csv'),\n",
    "                index=False)"
   ]
  }
 ],
 "metadata": {
  "kernelspec": {
   "display_name": "base",
   "language": "python",
   "name": "python3"
  },
  "language_info": {
   "codemirror_mode": {
    "name": "ipython",
    "version": 3
   },
   "file_extension": ".py",
   "mimetype": "text/x-python",
   "name": "python",
   "nbconvert_exporter": "python",
   "pygments_lexer": "ipython3",
   "version": "3.11.5"
  },
  "orig_nbformat": 4,
  "vscode": {
   "interpreter": {
    "hash": "8c49a9e6d6b122d0bc46f085b0f9b84866f77188fdff3252b8a9eae176833897"
   }
  }
 },
 "nbformat": 4,
 "nbformat_minor": 2
}
