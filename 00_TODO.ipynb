{
 "cells": [
  {
   "cell_type": "markdown",
   "metadata": {},
   "source": [
    "### TODO\n",
    "* Reorganiser le cod le code\n",
    "* Relancer tout\n",
    "* faire la database de texte\n",
    "* faire des use case?\n",
    "  * classification? classification en utilisant DRS Document Types Metadata Mapping(1) => stc_collection_test_offset=1250.xlsx\n",
    "  * generation?\n",
    "* pdf to text avec google vision pour tous les docs\n",
    "* qui limite à une certaine mod d'helico\n",
    "* trouver un vrai use case avec lequel il y a un vrai pattern\n",
    "* statistics on desctiption legnth (# of words)\n",
    "* statistics on Limitations and Condition (# of words and sentences)\n",
    "* classifier pour les ATA, avec les ATA les plus classiques\n",
    "* STC content (limitations/correl;ations):\n",
    "  * verifier si les deux sont anticorr'lé\n",
    "  * améliore l'algo d'extraction des limitatiosn te confdisiotn\n",
    "* faire rounite d'extraction de paragraphes -> 92\n",
    "  * outline du pdf\n",
    "  * regex https://regex101.com/\n",
    "  * figures\n",
    "  * si bookmark correspiond pas a un vrai titre\n",
    "  * faire nested liste ou ien juste flat avec toute l'arbo...\n",
    "  * faire un regex pour extraire le mocreau de texte.\n",
    "  * pattern utiles pour detection de title (initial):\n",
    "    * extraction de la ToC depuis pdf plnuimber\n",
    "    * Excellent:\n",
    "      * début de phrase\n",
    "      * Phrase avec peu de mots\n",
    "      * parttern tres recurent suitnt le type de doc\n",
    "    * Bon marqueur:\n",
    "      * En gras\n",
    "      * majuscule\n",
    "      * deux points\n",
    "    * Moyen marqueur:\n",
    "      * keyword connus\n",
    "      * point final \n",
    "    * En vrac:\n",
    "      * En gras\n",
    "      * keyword connus\n",
    "      * peu de mots\n",
    "      * fini sans un point final\n",
    "      * majuscule\n",
    "      * saut de ligne avant, mais pas apres\n",
    "      * parttern tres recurent suitnt le type de doc\n",
    "      * des fois des deux points\n",
    "    * Examples:\n",
    "      * (6) Training on Records.\n",
    "      * 21. PASSENGER AND CARGO LOADING PROCEDURES. \n",
    "      * (1) Loading, based on aircraft configuration, i.e.,....\n",
    "      * 1. Purpose.\n",
    "      * Purpose: This InFO informs air carriers of the availability of the Department of Transportation’s (DOT) National Aviation Resource Manual for Quarantinable Diseases. \n",
    "      * SUBJECT: DOT\n",
    "\n",
    "TODO:\n",
    "* STC content (limitations/correl;ations):\n",
    "  * refaire une analyse avec google vision sur fichiers qui ont d'econne seulement: le faire avec les filters. Se faire un fichier excel pour releceture plus simple\n",
    "* Identify pdfs requiring google vision by type: STC, CAR, \n",
    "* Retrieve additional attachment (xml, html, doc, docs, xls, xlsx). Not sure since not additional info.\n",
    "* faire classifier d'ATA et l'appliquer sur les STC\n",
    "* identifier un use case pour le STC:\n",
    "  * pas simple, pas vraiment d'apprentissage car peu de lien entre les différents paragraphes\n",
    "  * OK pour statistique explicatives:\n",
    "    * où est-ce qu'il y a les ICA et FMS\n",
    "    * où est-ce que la hrase générique d'incompatibilité\n",
    "    * lien entre ACO et ODA\n",
    "    * conbien listent les ICA et FMS en lim vs conteniu du design change\n",
    "    * diversité des l;imitationms listées\n",
    "    * limitation à une mod d h;élico\n",
    "  * faire de la génération? \n",
    "* Use case sur tout le DRS:\n",
    "  * faire classifier général sur tout avec remplacement de mots\n",
    "  * découper les paragraphes\n",
    "  * un bon use case est de bosser sur des bons doc qui sont des guidance\n",
    "* Use pour un sous-ensemble du DRS:\n",
    "  * doc de qualit'e: order, AC, \n",
    "  * outline/bookmark dispo\n",
    "  * doc a partir desquels on peut faire decoupage question/reponse par paragrahe\n",
    "* Check compliance against 1000.36 -> needs to be translated from rules to examples.\n",
    "  * peut-etre que les modeles existants permettent de faire du zero-shot dessus?"
   ]
  },
  {
   "cell_type": "markdown",
   "metadata": {},
   "source": [
    "### Process for questions extractions\n",
    "\n",
    "if\n",
    "contrext from DRS doc\n",
    "titre du dc\n",
    "tutore tu paragrap\n",
    "pragraph qui suit"
   ]
  },
  {
   "cell_type": "code",
   "execution_count": 22,
   "metadata": {},
   "outputs": [
    {
     "name": "stdout",
     "output_type": "stream",
     "text": [
      "(76417, 4)\n",
      "28334\n"
     ]
    }
   ],
   "source": [
    "#import pandas as pd\n",
    "\n",
    "#df = pd.read_parquet(r\"C:\\Users\\victor\\Documents\\DeepLearning\\FAA NLP Project\\database\\decoded_pdf_using_text-from-pdf-pdfplumber.parquet\")\n",
    "\n",
    "print(df.shape)\n",
    "print(df['descriptions'].apply(lambda x: len(str(x))>2).sum())"
   ]
  },
  {
   "cell_type": "code",
   "execution_count": 24,
   "metadata": {},
   "outputs": [
    {
     "name": "stdout",
     "output_type": "stream",
     "text": [
      "(43818, 4)\n",
      "40407\n"
     ]
    }
   ],
   "source": [
    "import pandas as pd\n",
    "\n",
    "df = pd.read_parquet(r\"C:\\Users\\victor\\Documents\\DeepLearning\\FAA NLP Project\\database\\decoded_pdf_using_text-from-pdf-googlevision.parquet\")\n",
    "\n",
    "print(df.shape)\n",
    "print(df['descriptions'].apply(lambda x: len(str(x))>2).sum())"
   ]
  },
  {
   "cell_type": "code",
   "execution_count": 25,
   "metadata": {},
   "outputs": [
    {
     "data": {
      "text/plain": [
       "documentGuid    string[python]\n",
       "descriptions    string[python]\n",
       "limitations     string[python]\n",
       "rawtext         string[python]\n",
       "dtype: object"
      ]
     },
     "execution_count": 25,
     "metadata": {},
     "output_type": "execute_result"
    }
   ],
   "source": [
    "df.dtypes"
   ]
  }
 ],
 "metadata": {
  "kernelspec": {
   "display_name": "faa-nlp-drs",
   "language": "python",
   "name": "python3"
  },
  "language_info": {
   "codemirror_mode": {
    "name": "ipython",
    "version": 3
   },
   "file_extension": ".py",
   "mimetype": "text/x-python",
   "name": "python",
   "nbconvert_exporter": "python",
   "pygments_lexer": "ipython3",
   "version": "3.11.5"
  }
 },
 "nbformat": 4,
 "nbformat_minor": 2
}
