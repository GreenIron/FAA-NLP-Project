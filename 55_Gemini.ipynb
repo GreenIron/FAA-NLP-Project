{
 "cells": [
  {
   "cell_type": "markdown",
   "metadata": {},
   "source": [
    "# Gemini\n",
    "No fine-tuning, but taking advantage of the large context window instead.\n",
    "* https://ai.google.dev/tutorials/tuning_quickstart_python\n",
    "* https://github.com/google/generative-ai-python/tree/v0.3.0/google/generativeai\n",
    "* https://ai.google.dev/gemini-api/docs/get-started/python\n",
    "* https://aistudio.google.com/app/prompts/new_chat?utm_source=onboarding&utm_medium=email&utm_campaign=welcome&utm_content=\n",
    "* `gemini-pro`: optimized for text-only prompts.\n",
    "* `gemini-pro-vision`: optimized for text-and-images prompts."
   ]
  },
  {
   "cell_type": "code",
   "execution_count": 8,
   "metadata": {},
   "outputs": [],
   "source": [
    "with open('gemini_api_key.txt','r') as f:\n",
    "    my_gemini_api_key = f.read()"
   ]
  },
  {
   "cell_type": "code",
   "execution_count": 9,
   "metadata": {},
   "outputs": [
    {
     "name": "stderr",
     "output_type": "stream",
     "text": [
      "/home/victor/anaconda3/envs/google_gemini/lib/python3.10/site-packages/tqdm/auto.py:21: TqdmWarning: IProgress not found. Please update jupyter and ipywidgets. See https://ipywidgets.readthedocs.io/en/stable/user_install.html\n",
      "  from .autonotebook import tqdm as notebook_tqdm\n"
     ]
    }
   ],
   "source": [
    "from pathlib import Path\n",
    "import hashlib\n",
    "import google.generativeai as genai\n",
    "\n",
    "genai.configure(api_key=my_gemini_api_key)\n",
    "\n",
    "# Set up the model\n",
    "generation_config = {\n",
    "  \"temperature\": 1,\n",
    "  \"top_p\": 0.95,\n",
    "  \"top_k\": 0,\n",
    "  \"max_output_tokens\": 8192,\n",
    "}\n",
    "\n",
    "safety_settings = [\n",
    "  {\n",
    "    \"category\": \"HARM_CATEGORY_HARASSMENT\",\n",
    "    \"threshold\": \"BLOCK_MEDIUM_AND_ABOVE\"\n",
    "  },\n",
    "  {\n",
    "    \"category\": \"HARM_CATEGORY_HATE_SPEECH\",\n",
    "    \"threshold\": \"BLOCK_MEDIUM_AND_ABOVE\"\n",
    "  },\n",
    "  {\n",
    "    \"category\": \"HARM_CATEGORY_SEXUALLY_EXPLICIT\",\n",
    "    \"threshold\": \"BLOCK_MEDIUM_AND_ABOVE\"\n",
    "  },\n",
    "  {\n",
    "    \"category\": \"HARM_CATEGORY_DANGEROUS_CONTENT\",\n",
    "    \"threshold\": \"BLOCK_MEDIUM_AND_ABOVE\"\n",
    "  },\n",
    "]\n",
    "\n",
    "model = genai.GenerativeModel(model_name=\"gemini-1.5-pro-latest\",\n",
    "                              generation_config=generation_config,\n",
    "                              safety_settings=safety_settings)"
   ]
  },
  {
   "cell_type": "markdown",
   "metadata": {},
   "source": [
    "## Adding extracted paragraphs in contex window"
   ]
  },
  {
   "cell_type": "code",
   "execution_count": 5,
   "metadata": {
    "metadata": {}
   },
   "outputs": [],
   "source": [
    "import os\n",
    "import glob\n",
    "import pandas as pd\n",
    "\n",
    "datasets = sorted(glob.glob(os.path.join(os.getcwd(), \n",
    "                                            'data', \n",
    "                                            'DRS', \n",
    "                                            'dataset', \n",
    "                                            'all_drs', \n",
    "                                            'dataset_gemini raw data_*.parquet')), \n",
    "\t\t\t\tkey=os.path.getctime, \n",
    "\t\t\t\treverse=True)\n",
    "\n",
    "df_dataset = pd.read_parquet(datasets[0])\n",
    "df_dataset = df_dataset.reset_index()"
   ]
  },
  {
   "cell_type": "code",
   "execution_count": 12,
   "metadata": {},
   "outputs": [],
   "source": [
    "history=[]\n",
    "for index, row in df_dataset.iterrows():\n",
    "    history.append({\"role\": \"user\",\n",
    "                    \"parts\": [row[\"0\"]]})"
   ]
  },
  {
   "cell_type": "markdown",
   "metadata": {},
   "source": [
    "## Adding whole document in contex window"
   ]
  },
  {
   "cell_type": "code",
   "execution_count": 6,
   "metadata": {},
   "outputs": [
    {
     "name": "stderr",
     "output_type": "stream",
     "text": [
      "unknown widths : \n",
      "[0, IndirectObject(676, 0, 138538041830576)]\n",
      "unknown widths : \n",
      "[0, IndirectObject(680, 0, 138538041830576)]\n",
      "unknown widths : \n",
      "[0, IndirectObject(684, 0, 138538041830576)]\n",
      "unknown widths : \n",
      "[0, IndirectObject(688, 0, 138538041830576)]\n",
      "unknown widths : \n",
      "[0, IndirectObject(701, 0, 138538041830576)]\n",
      "unknown widths : \n",
      "[0, IndirectObject(705, 0, 138538041830576)]\n",
      "unknown widths : \n",
      "[0, IndirectObject(709, 0, 138538041830576)]\n",
      "unknown widths : \n",
      "[0, IndirectObject(713, 0, 138538041830576)]\n",
      "unknown widths : \n",
      "[0, IndirectObject(717, 0, 138538041830576)]\n",
      "unknown widths : \n",
      "[0, IndirectObject(721, 0, 138538041830576)]\n",
      "unknown widths : \n",
      "[0, IndirectObject(725, 0, 138538041830576)]\n",
      "unknown widths : \n",
      "[0, IndirectObject(729, 0, 138538041830576)]\n",
      "unknown widths : \n",
      "[0, IndirectObject(138, 0, 138538041830576)]\n",
      "unknown widths : \n",
      "[0, IndirectObject(141, 0, 138538041830576)]\n",
      "unknown widths : \n",
      "[0, IndirectObject(144, 0, 138538041830576)]\n",
      "unknown widths : \n",
      "[0, IndirectObject(147, 0, 138538041830576)]\n",
      "unknown widths : \n",
      "[0, IndirectObject(150, 0, 138538041830576)]\n",
      "unknown widths : \n",
      "[0, IndirectObject(153, 0, 138538041830576)]\n",
      "unknown widths : \n",
      "[0, IndirectObject(156, 0, 138538041830576)]\n",
      "unknown widths : \n",
      "[0, IndirectObject(159, 0, 138538041830576)]\n",
      "unknown widths : \n",
      "[0, IndirectObject(162, 0, 138538041830576)]\n",
      "unknown widths : \n",
      "[0, IndirectObject(165, 0, 138538041830576)]\n",
      "unknown widths : \n",
      "[0, IndirectObject(168, 0, 138538041830576)]\n",
      "unknown widths : \n",
      "[0, IndirectObject(171, 0, 138538041830576)]\n",
      "unknown widths : \n",
      "[0, IndirectObject(174, 0, 138538041830576)]\n",
      "unknown widths : \n",
      "[0, IndirectObject(177, 0, 138538041830576)]\n",
      "unknown widths : \n",
      "[0, IndirectObject(180, 0, 138538041830576)]\n",
      "unknown widths : \n",
      "[0, IndirectObject(183, 0, 138538041830576)]\n",
      "unknown widths : \n",
      "[0, IndirectObject(186, 0, 138538041830576)]\n",
      "unknown widths : \n",
      "[0, IndirectObject(189, 0, 138538041830576)]\n",
      "unknown widths : \n",
      "[0, IndirectObject(192, 0, 138538041830576)]\n",
      "unknown widths : \n",
      "[0, IndirectObject(195, 0, 138538041830576)]\n",
      "unknown widths : \n",
      "[0, IndirectObject(198, 0, 138538041830576)]\n",
      "unknown widths : \n",
      "[0, IndirectObject(201, 0, 138538041830576)]\n",
      "unknown widths : \n",
      "[0, IndirectObject(676, 0, 138538041830576)]\n",
      "unknown widths : \n",
      "[0, IndirectObject(680, 0, 138538041830576)]\n",
      "unknown widths : \n",
      "[0, IndirectObject(684, 0, 138538041830576)]\n",
      "unknown widths : \n",
      "[0, IndirectObject(688, 0, 138538041830576)]\n",
      "unknown widths : \n",
      "[0, IndirectObject(701, 0, 138538041830576)]\n",
      "unknown widths : \n",
      "[0, IndirectObject(705, 0, 138538041830576)]\n",
      "unknown widths : \n",
      "[0, IndirectObject(709, 0, 138538041830576)]\n",
      "unknown widths : \n",
      "[0, IndirectObject(713, 0, 138538041830576)]\n",
      "unknown widths : \n",
      "[0, IndirectObject(717, 0, 138538041830576)]\n",
      "unknown widths : \n",
      "[0, IndirectObject(721, 0, 138538041830576)]\n",
      "unknown widths : \n",
      "[0, IndirectObject(725, 0, 138538041830576)]\n",
      "unknown widths : \n",
      "[0, IndirectObject(729, 0, 138538041830576)]\n",
      "unknown widths : \n",
      "[0, IndirectObject(138, 0, 138538041830576)]\n",
      "unknown widths : \n",
      "[0, IndirectObject(141, 0, 138538041830576)]\n",
      "unknown widths : \n",
      "[0, IndirectObject(144, 0, 138538041830576)]\n",
      "unknown widths : \n",
      "[0, IndirectObject(147, 0, 138538041830576)]\n",
      "unknown widths : \n",
      "[0, IndirectObject(150, 0, 138538041830576)]\n",
      "unknown widths : \n",
      "[0, IndirectObject(153, 0, 138538041830576)]\n",
      "unknown widths : \n",
      "[0, IndirectObject(156, 0, 138538041830576)]\n",
      "unknown widths : \n",
      "[0, IndirectObject(159, 0, 138538041830576)]\n",
      "unknown widths : \n",
      "[0, IndirectObject(162, 0, 138538041830576)]\n",
      "unknown widths : \n",
      "[0, IndirectObject(165, 0, 138538041830576)]\n",
      "unknown widths : \n",
      "[0, IndirectObject(168, 0, 138538041830576)]\n",
      "unknown widths : \n",
      "[0, IndirectObject(171, 0, 138538041830576)]\n",
      "unknown widths : \n",
      "[0, IndirectObject(174, 0, 138538041830576)]\n",
      "unknown widths : \n",
      "[0, IndirectObject(177, 0, 138538041830576)]\n",
      "unknown widths : \n",
      "[0, IndirectObject(180, 0, 138538041830576)]\n",
      "unknown widths : \n",
      "[0, IndirectObject(183, 0, 138538041830576)]\n",
      "unknown widths : \n",
      "[0, IndirectObject(186, 0, 138538041830576)]\n",
      "unknown widths : \n",
      "[0, IndirectObject(189, 0, 138538041830576)]\n",
      "unknown widths : \n",
      "[0, IndirectObject(192, 0, 138538041830576)]\n",
      "unknown widths : \n",
      "[0, IndirectObject(195, 0, 138538041830576)]\n",
      "unknown widths : \n",
      "[0, IndirectObject(198, 0, 138538041830576)]\n",
      "unknown widths : \n",
      "[0, IndirectObject(201, 0, 138538041830576)]\n",
      "unknown widths : \n",
      "[0, IndirectObject(18269, 0, 138534413022160)]\n",
      "unknown widths : \n",
      "[0, IndirectObject(18273, 0, 138534413022160)]\n",
      "unknown widths : \n",
      "[0, IndirectObject(18277, 0, 138534413022160)]\n",
      "unknown widths : \n",
      "[0, IndirectObject(18281, 0, 138534413022160)]\n",
      "unknown widths : \n",
      "[0, IndirectObject(18269, 0, 138534413022160)]\n",
      "unknown widths : \n",
      "[0, IndirectObject(18273, 0, 138534413022160)]\n",
      "unknown widths : \n",
      "[0, IndirectObject(18277, 0, 138534413022160)]\n",
      "unknown widths : \n",
      "[0, IndirectObject(18281, 0, 138534413022160)]\n",
      "unknown widths : \n",
      "[0, IndirectObject(5828, 0, 138534553208192)]\n",
      "unknown widths : \n",
      "[0, IndirectObject(5832, 0, 138534553208192)]\n",
      "unknown widths : \n",
      "[0, IndirectObject(5844, 0, 138534553208192)]\n",
      "unknown widths : \n",
      "[0, IndirectObject(5836, 0, 138534553208192)]\n",
      "unknown widths : \n",
      "[0, IndirectObject(5840, 0, 138534553208192)]\n",
      "unknown widths : \n",
      "[0, IndirectObject(5848, 0, 138534553208192)]\n",
      "unknown widths : \n",
      "[0, IndirectObject(5852, 0, 138534553208192)]\n",
      "unknown widths : \n",
      "[0, IndirectObject(5828, 0, 138534553208192)]\n",
      "unknown widths : \n",
      "[0, IndirectObject(5832, 0, 138534553208192)]\n",
      "unknown widths : \n",
      "[0, IndirectObject(5844, 0, 138534553208192)]\n",
      "unknown widths : \n",
      "[0, IndirectObject(5836, 0, 138534553208192)]\n",
      "unknown widths : \n",
      "[0, IndirectObject(5840, 0, 138534553208192)]\n",
      "unknown widths : \n",
      "[0, IndirectObject(5848, 0, 138534553208192)]\n",
      "unknown widths : \n",
      "[0, IndirectObject(5852, 0, 138534553208192)]\n"
     ]
    }
   ],
   "source": [
    "import os\n",
    "import glob\n",
    "import pandas as pd\n",
    "import PyPDF2\n",
    "import datetime\n",
    "\n",
    "# drs_doc_types = ['AC',\n",
    "#                  'ORDER_8300.10',\n",
    "#                  'ORDER_8400.10',\n",
    "#                  'ORDER_8700.1',\n",
    "#                  'ORDER_8740.1',\n",
    "#                  'ORDER_8900.1',\n",
    "#                  'ORDERS']\n",
    "drs_doc_types = ['AC']\n",
    "\n",
    "history=[]\n",
    "\n",
    "df_all_content = None\n",
    "\n",
    "for drs_doc_type in drs_doc_types:\n",
    "    df_index = glob.glob(os.path.join(os.getcwd(), 'data', 'DRS', 'index', drs_doc_type+'*.parquet'))[-1]\n",
    "    df_index = pd.read_parquet(df_index)\n",
    "\n",
    "    for index, row in df_index.iterrows():\n",
    "        matching_file = glob.glob(os.path.join(os.getcwd(), 'data', 'DRS', 'raw data', drs_doc_type, 'pdf','*'+row['documentGuid']+'*.pdf'))\n",
    "        if len(matching_file)>0:\n",
    "            if row['drs:status']=='Current':\n",
    "                pdf = PyPDF2.PdfReader(matching_file[0])\n",
    "                '\\n\\n====== NEW PAGE ======\\n\\n'.join([page.extract_text() for page in pdf.pages])\n",
    "                history.append({\"role\": \"user\",\n",
    "                                \"parts\": ['\\n\\n====== NEW PAGE ======\\n\\n'.join([page.extract_text() for page in pdf.pages])]})"
   ]
  },
  {
   "cell_type": "markdown",
   "metadata": {},
   "source": [
    "## Filtering history"
   ]
  },
  {
   "cell_type": "code",
   "execution_count": 10,
   "metadata": {},
   "outputs": [],
   "source": [
    "convo = model.start_chat(history=history[0:10])"
   ]
  },
  {
   "cell_type": "markdown",
   "metadata": {},
   "source": [
    "## Prompt"
   ]
  },
  {
   "cell_type": "code",
   "execution_count": 11,
   "metadata": {},
   "outputs": [],
   "source": [
    "template = \"\"\"\n",
    "Role: you are an expert in all aspects of operations, engineering, design, maintenance, airworthiness and certification for rotorcraft and airplanes.\n",
    "\n",
    "Context: use the previous document provided in the chat.\n",
    "\n",
    "Question: \"\"\""
   ]
  },
  {
   "cell_type": "code",
   "execution_count": 12,
   "metadata": {},
   "outputs": [],
   "source": [
    "response = convo.send_message(template+\"Is there any restriction when installing a lithium battery?\")"
   ]
  },
  {
   "cell_type": "code",
   "execution_count": null,
   "metadata": {},
   "outputs": [
    {
     "data": {
      "text/plain": [
       "response:\n",
       "GenerateContentResponse(\n",
       "    done=True,\n",
       "    iterator=None,\n",
       "    result=glm.GenerateContentResponse({'candidates': [{'content': {'parts': [{'text': '## Lithium Battery Installation Restrictions in Aircraft:\\n\\nWhile the provided document, \"Approval of Propulsion Fuels, Additives, and Lubricating Oils,\" doesn\\'t directly address lithium battery installation, my knowledge as a rotorcraft and airplane expert allows me to provide information regarding restrictions:\\n\\n**General Restrictions and Considerations:**\\n\\n* **Type of Lithium Battery:** \\n    * **Lithium Metal Batteries:** Generally prohibited as cargo on passenger aircraft due to fire hazards.\\n    * **Lithium-ion Batteries:** Allowed with restrictions and regulations depending on size, Watt-hour rating, and use (e.g., installed equipment, carry-on, or checked baggage).\\n* **Regulations:**\\n    * **FAA:** Strict guidelines for carrying lithium batteries on board, particularly for large batteries or those exceeding specific Watt-hour ratings. \\n    * **Other Regulatory Bodies:**  EASA, ICAO, and other national aviation authorities have similar regulations with specific limitations.\\n* **Safety Management Systems (SMS):** Operators should have procedures and risk assessments within their SMS to evaluate the hazards of lithium batteries, including transportation, storage, charging, and potential fire risks.\\n* **Design Considerations:**\\n    * **Installation:** Batteries should be installed according to manufacturer instructions and relevant regulations, considering factors like ventilation, segregation from other flammable materials, and fire suppression systems. \\n    * **Protection:** Secure mounting to prevent movement during flight, protection from physical damage, and potential short circuits.\\n    * **Thermal Management:** Proper ventilation and temperature control to prevent overheating and thermal runaway.\\n\\n**Additional Specific Restrictions May Apply:**\\n\\n* **Aircraft Type:** Different types of aircraft might have specific limitations based on their design and fire suppression capabilities.\\n* **Location on Aircraft:** Restrictions might exist for installing lithium batteries in certain areas of the aircraft, such as cargo compartments or near critical systems.\\n* **State of Charge:** Limitations on the state of charge for batteries carried as cargo or in baggage.\\n* **Packaging and Labeling:** Specific requirements for packaging and labeling lithium batteries for transport.\\n\\n**Recommendations:**\\n\\n* **Consult Regulations:** Always refer to the latest FAA regulations and guidance materials, including Advisory Circulars (ACs) and relevant TSOs (Technical Standard Orders).\\n* **Manufacturer Instructions:** Follow the manufacturer\\'s instructions for installation, maintenance, and handling of lithium batteries.\\n* **Training:** Ensure personnel involved in handling and transporting lithium batteries receive appropriate training on safety procedures and emergency response.\\n\\n**Remember, lithium batteries pose potential fire hazards if not handled and installed correctly. Always prioritize safety and adhere to all relevant regulations and best practices.**\\n'}], 'role': 'model'}, 'finish_reason': 1, 'index': 0, 'safety_ratings': [{'category': 9, 'probability': 1, 'blocked': False}, {'category': 8, 'probability': 1, 'blocked': False}, {'category': 7, 'probability': 1, 'blocked': False}, {'category': 10, 'probability': 1, 'blocked': False}], 'token_count': 0, 'grounding_attributions': []}]}),\n",
       ")"
      ]
     },
     "execution_count": 29,
     "metadata": {},
     "output_type": "execute_result"
    }
   ],
   "source": [
    "response"
   ]
  },
  {
   "cell_type": "code",
   "execution_count": null,
   "metadata": {},
   "outputs": [
    {
     "ename": "AttributeError",
     "evalue": "'NoneType' object has no attribute 'text'",
     "output_type": "error",
     "traceback": [
      "\u001b[0;31m---------------------------------------------------------------------------\u001b[0m",
      "\u001b[0;31mAttributeError\u001b[0m                            Traceback (most recent call last)",
      "Cell \u001b[0;32mIn[28], line 1\u001b[0m\n\u001b[0;32m----> 1\u001b[0m \u001b[43mconvo\u001b[49m\u001b[38;5;241;43m.\u001b[39;49m\u001b[43mlast\u001b[49m\u001b[38;5;241;43m.\u001b[39;49m\u001b[43mtext\u001b[49m\n",
      "\u001b[0;31mAttributeError\u001b[0m: 'NoneType' object has no attribute 'text'"
     ]
    }
   ],
   "source": [
    "convo.last.text"
   ]
  }
 ],
 "metadata": {
  "kernelspec": {
   "display_name": "drs_50_Haystack_RAG",
   "language": "python",
   "name": "python3"
  },
  "language_info": {
   "codemirror_mode": {
    "name": "ipython",
    "version": 3
   },
   "file_extension": ".py",
   "mimetype": "text/x-python",
   "name": "python",
   "nbconvert_exporter": "python",
   "pygments_lexer": "ipython3",
   "version": "3.10.14"
  }
 },
 "nbformat": 4,
 "nbformat_minor": 2
}
