{
 "cells": [
  {
   "cell_type": "markdown",
   "metadata": {},
   "source": [
    "## Routine to extract structured STC fields/paragraphs"
   ]
  },
  {
   "cell_type": "code",
   "execution_count": 28,
   "metadata": {},
   "outputs": [],
   "source": [
    "import re\n",
    "\n",
    "def get_block(text, pattern_start, pattern_end):\n",
    "    try:\n",
    "        match_start = re.search(pattern_start, text) # re.IGNORECASE\n",
    "        match_end = re.search(pattern_end, text[match_start.span(0)[1]:]) # re.IGNORECASE\n",
    "\n",
    "        return text[match_start.span(0)[1]:(match_end.span(0)[0]+match_start.span(0)[1])]\n",
    "    except:\n",
    "        return ''"
   ]
  },
  {
   "cell_type": "code",
   "execution_count": 29,
   "metadata": {},
   "outputs": [],
   "source": [
    "def get_all_descriptions(pdf_pages):\n",
    "    descriptions = []\n",
    "    new_line_pattern = '(\\n|\\n\\r|\\r|\\(| )'\n",
    "\n",
    "    # First page\n",
    "    descriptions.append(get_block(pdf_pages[0],\n",
    "                                  new_line_pattern+'Description of (the )?Type'+new_line_pattern+'Design Change:?\\.?'+new_line_pattern,\n",
    "                                  '(Make\\:|Date of |Limitations |[a-z ]{5,10}ions and Cond|\\(Description |\\(See continuation)'))\n",
    "    # Other pages\n",
    "    final_del = 'Any alteration |United States of America|…|- - -|\\. \\. \\. |\\* \\* \\* |END|---|\\.\\.\\.|\\*\\*\\*|Certification Basis|\\(See continuation|\\(cont'\n",
    "    for n in range(1, len(pdf_pages)):\n",
    "        descriptions.append(get_block(pdf_pages[n],\n",
    "                                      new_line_pattern+'Description of (the )?Type Design Change:?\\.? (\\([Cc]on[a-z ]+\\)|[Cc]on[a-z ]+):?'+new_line_pattern,\n",
    "                                      new_line_pattern+'(Limitation(s)? and Condition(s)?:?\\.? (\\(?[Cc]on[a-z \\.]+\\)?):?'+'|'+final_del+')'))\n",
    "        \n",
    "    return descriptions"
   ]
  },
  {
   "cell_type": "code",
   "execution_count": 30,
   "metadata": {},
   "outputs": [],
   "source": [
    "def get_all_limitations(pdf_pages):\n",
    "    limitations = []\n",
    "    new_line_pattern = '(\\n|\\n\\r|\\r|\\(| )'\n",
    "\n",
    "    # First page\n",
    "    limitations.append(get_block(pdf_pages[0],\n",
    "                                  new_line_pattern+'(Limitations and Conditions|[a-z ]{5,10}ions and Cond[a-z ]{5,10}):?\\.?'+new_line_pattern,\n",
    "                                  '(\\(Limitations |'+new_line_pattern+'This certificat|\\(See )'))\n",
    "    # Other pages\n",
    "    final_del = 'Any alteration |United States of America|…|- - -|\\. \\. \\. |\\* \\* \\* |---|\\.\\.\\.|\\*\\*\\*|Certification Basis|\\(See continuation|\\(cont'\n",
    "    for n in range(1, len(pdf_pages)):\n",
    "        limitations.append(get_block(pdf_pages[n],\n",
    "                                      new_line_pattern+'Limitation(s)? and Condition(s)?:?\\.? (\\([Cc]on[a-z \\.]+\\)|[Cc]on[a-z \\.]+|Con[a-z \\.]+):?'+new_line_pattern, \n",
    "                                      new_line_pattern+\"(\"+final_del+\")\"))\n",
    "    return limitations"
   ]
  },
  {
   "cell_type": "markdown",
   "metadata": {},
   "source": [
    "## Decoding examples"
   ]
  },
  {
   "cell_type": "code",
   "execution_count": 20,
   "metadata": {},
   "outputs": [],
   "source": [
    "example_path = 'SA2612SW-D__Current__044399BBA0D6080285256CC20008C674'"
   ]
  },
  {
   "cell_type": "markdown",
   "metadata": {},
   "source": [
    "### On google-extracted text"
   ]
  },
  {
   "cell_type": "code",
   "execution_count": 31,
   "metadata": {},
   "outputs": [
    {
     "name": "stdout",
     "output_type": "stream",
     "text": [
      "[\"1.\\nInstall dual wiring provisions in accordance with ARINC 580/599, ECO R2847\\nRev. A dated 11/21/77, and ECO R3111 Rev. A dated 6/18/80.\\nInstall a single Litton LTN-201 ONS or LTN-211 ONS approved under TSO C94\\nin accordance with ECO's R2847 Rev. B thru G dated 3/28/78, 7/28/78,\\n9/18/78, 2/16/79, 3/20/79, and 9/26/79 respectively, and in accordance\\nwith the general guidelines as outlined in AC120-37. (Continued)\\nFEDERAL\\n\", '3. Install a single or dual Litton LTN-211 ONS/VLF system approved under TSO C94\\nin accordance with ECO R2847 Rev. K, N and P dated 8/31/80, 12/19/80, and\\n2/16/81, respectively, or ECO R4047 dated 11/25/83 in accordance with the\\ngeneral guidelines as outlined in AC 120-37.\\nSA2612SW-D\\n4. Relocate No. 1 and No. 2 LTN-211 ONS/VLF system antenna in accordance with ECO\\nR3230 dated 8/7/81 following the guidelines as outlined in AC 120-37.\\n6.\\n5. Replace LTN-211 ONS/VLF system containing computer program No. 211-32-02 with\\nsystem containing computer program No. 211-34-00 in accordance with ECO R3236\\ndated August 21, 1981.\\nInstall a dual LTN-211 ONS/VLF system in DC-10-30 airplanes containing com-\\nputer program No. 211-34-00 in accordance with ECO R2990 Rev. G, ECO R3230\\nRev. D, and in accordance with the general guidelines as outlined in AC120-37.\\n7. Replace LTN-211 ONS/VLF system containing computer program No. 211-34-00 with\\nsystem containing computer program No. 211-34-02 in accordance with ECO R3343A\\ndated June 22, 1983.\\n8. Replace LTN-211 ONS/VLF system containing computer program No. 211-34-02 with\\nsystem containing computer program No. 211-34-03 in accordance with ECO R3343B\\ndated November 7, 1984.\\n9. Replace LTN-211 and VLF system containing computer program No. 211-34-04 with\\nsystem containing computer program No. 211-34-05 in accordance with ECO R3343C\\ndated November 6, 1986.\\n10. Replace existing ARINC-599 antenna coupler unit with a mini-antenna coupler\\nunit in accordance with ECO R3525A dated January 9, 1987.', '', '']\n",
      "=======================\n",
      "['This approval should not be incorporated in any air-\\ncraft of this specific model on which other approved modifications are incor-\\nporated, unless it is determined that the interrelationship between this\\nchange and any of those previously incorporated approved modifications will\\nnot introduce any adverse effect upon the airworthiness of the aircraft.\\n(Continued)\\nAVIATION\\nA22WE\\nMcDonnell Douglas\\nDC-10-10\\nDC-10-30', \"No INS navigation equipment may be installed on Captain's side of the cockpit.\\nLitton LTN-211 ONS with computer program No. 211-11-02 requires FAA approved\\nAmerican Airlines, Inc. AFM Appendix IVA, Supplement 2A dated May 9, 1980, and\\nis approved in accordance with the accuracy requirements as outlined in\\nAC120-33.\\nLitton LTN-211 ONS/VLF system with computer program No. 211-32-00 requires FAA\\napproved American Airlines, Inc. AFM Appendix IVA, Supplement 2B dated October\\n17, 1980, and is approved in accordance with the accuracy requirements as\\noutlined in AC120-33.\", 'Litton LTN-211 ONS/VLF system with computer program No. 211-32-02 requires\\nFAA approved American Airlines, Inc. AFM Appendix IVA, Supplement 2C dated\\nFebruary 26, 1981 for DC-10-10 airplanes, and is approved in accordance with\\nthe accuracy requirements as outlined in AC120-33.\\nLitton LTN-211 ONS/VLF system with computer program No. 211-34-00 requires\\nFAA approved American Airlines, Inc. AFM Appendix IVA, Supplement 20 dated\\nNovember 25, 1981 for DC-10-10 airplanes or FAA approved American Airlines,\\nInc. AFM Appendix XXXVI, Supplement 1 dated October 16, 1982 for DC-10-30\\nairplanes, and is approved in accordance with the accuracy requirements as\\noutlined in AC120-33.\\nLitton LTN-211 ONS/VLF system with computer program No. 211-34-02 requires\\nFAA approved American Airlines, Inc. AFM Appendix IVA, Supplement 2E dated\\nSeptember 23, 1983 for DC-10-10 airplanes, or FAA approved American Airlines,\\nInc. AFM Appendix XXXVI, Supplement 1A dated September 23, 1983 for DC-10-30\\nairplanes, and is approved in accordance with the accuracy requirements as\\noutlined in AC120-33.\\nLitton LTN-211 ONS/VLF system with computer program No. 211-34-03 211-34-04\\nrequires FAA approved American Airlines, Inc. AFM Appendix IVA, Supplement 2F\\ndated January 4, 1985 for DC-10-10 airplanes, or FAA approved American\\nAirlines, Inc. AFM Appendix XXXVI, Supplement 1B dated January 4, 1985 for\\nDC-10-30 airplanes, and is approved in accordance with the accuracy\\nrequirements as outlined in AC120-33.\\nDate Amended:\\nLitton LTN-211 ONS/VLF system with computer program No. 211-34-05 requires\\nFAA approved American Airlines, Inc. AFM Appendix IVA, Supplement 2G dated\\nNovember 25, 1986 for DC-10-10 airplanes, or FAA approved American Airlines,\\nInc. AFM Appendix XXXVI, Supplement 3 dated November 25, 1985 for DC-10-30\\nairplanes, and is approved in accordance with the accuracy requirements as\\noutlined in AC120-33.\\n4/22/78, 8/15/78, 5/2/79, 9/14/79, 4/3/80, 5/9/80, 9/29/80, 10/17/80, 2/3/81,\\n2/26/81, 9/4/81, 10/2/81, 11/25/81, 10/16/82, 9/23/83, 2/22/84, 1/4/85,\\n11/25/86.', '']\n"
     ]
    }
   ],
   "source": [
    "import os\n",
    "\n",
    "with open(os.path.join(os.getcwd(),'database','data','stc','text-from-pdf',example_path+'.txt'),\"r\", encoding=\"utf8\") as my_text:\n",
    "    pdf_pages = my_text.read().split(\"\\n\\n\")\n",
    "\n",
    "    print(get_all_descriptions(pdf_pages))\n",
    "    print(\"=======================\")\n",
    "    print(get_all_limitations(pdf_pages))\n",
    "    # print(\"=======================\")\n",
    "    # print(pdf_pages)"
   ]
  },
  {
   "cell_type": "markdown",
   "metadata": {},
   "source": [
    "### On pdfplumber-extracted text"
   ]
  },
  {
   "cell_type": "code",
   "execution_count": 7,
   "metadata": {},
   "outputs": [
    {
     "name": "stdout",
     "output_type": "stream",
     "text": [
      "['Install a Continental W670-23 engine in the above model\\nairplane in accordance with Olde Thyme Aviation Pictures 1 through 36, and Olde Thyme Aviation\\nInstallation Report OTA-3-1-06 dated March 20, 2006.\\n']\n",
      "=======================\n",
      "['Data pertaining to this modification are considered inadequate for\\nduplication in other aircraft. This approval is therefore limited to the installation in Waco UKC airplane\\nserial number 3978, registration N14611 only. A copy of this certificate, and the Airplane Flight Manual\\nSupplement dated March 31, 2006 shall be maintained as part of the permanent records for the\\nmodified aircraft.']\n",
      "=======================\n",
      "['UnitedStatesofAmerica\\nDepartmentofTransportation_FederalAviationAdministration\\nSupplementalTypeCertificate\\nNumber\\nSA01661SE\\nThis certificate, issued to Olde Thyme Aviation\\n21704 141st Ave. SW\\nVashon Island, WA 98070\\ncertifies that the change in the type design for the following product with the limitations and conditions\\ntherefor as specified hereon meets the airworthiness requirements of Type Certificate ATC 528.\\nOriginal Product\\uf0beType Certificate Number: ATC 528\\nMake: Waco\\nModel: UKC\\nDescription of the Type Design Change: Install a Continental W670-23 engine in the above model\\nairplane in accordance with Olde Thyme Aviation Pictures 1 through 36, and Olde Thyme Aviation\\nInstallation Report OTA-3-1-06 dated March 20, 2006.\\nLimitations and Conditions: Data pertaining to this modification are considered inadequate for\\nduplication in other aircraft. This approval is therefore limited to the installation in Waco UKC airplane\\nserial number 3978, registration N14611 only. A copy of this certificate, and the Airplane Flight Manual\\nSupplement dated March 31, 2006 shall be maintained as part of the permanent records for the\\nmodified aircraft.\\nThis certificate and the supporting data which is the basis for approval shall remain in effect until sur-\\nrendered, suspended, revoked, or a termination date is otherwise established by the Administrator of the\\nFederal Aviation Administration.\\nDate of application: November 6, 2003 Date reissued:\\nDate of issuance: March 31, 2006 Date amended:\\nBy direction of the Administrator\\n__________________________________________\\n(Signature)\\nActing Manager, Seattle Aircraft\\nCertification Office\\n(Title)\\nAny alteration of this certificate is punishable by a fine of not exceeding $1,000, or imprisonment not exceeding 3 years, or both.\\nThis certificate may be transferred in accordance with FAR 21.47.\\nFAA FORM 8110-2(10-68)\\n']\n"
     ]
    }
   ],
   "source": [
    "import pdfplumber\n",
    "\n",
    "with pdfplumber.open(os.path.join(os.getcwd(),'database','data','stc','pdf',example_path+'.pdf')) as pdf:\n",
    "    pdf_pages = [str(this_page.extract_text())+'\\n' for this_page in pdf.pages] pdf_pages = my_text.read().split(\"\\n\\n\")\n",
    "\n",
    "    print(get_all_descriptions(pdf_pages))\n",
    "    print(\"=======================\")\n",
    "    print(get_all_limitations(pdf_pages))\n",
    "    print(\"=======================\")\n",
    "    print(pdf_pages)\n"
   ]
  },
  {
   "cell_type": "markdown",
   "metadata": {},
   "source": [
    "## Apply routines for fields/paragraphs on all text"
   ]
  },
  {
   "cell_type": "code",
   "execution_count": 7,
   "metadata": {},
   "outputs": [],
   "source": [
    "def list2text_frompdf(mylist):\n",
    "    mytext = ' [SEP] '.join([val for val in mylist if len(val)>2])\n",
    "\n",
    "    return mytext"
   ]
  },
  {
   "cell_type": "code",
   "execution_count": 27,
   "metadata": {},
   "outputs": [
    {
     "data": {
      "text/plain": [
       "[['0ECF3ED93D565BA98625836A004BAA0C',\n",
       "  'Aero Fabricators, Inc.\\n1216 North Road\\nLyons, WI 53148\\nInstall Aero Fabricators shoulder harness and seat belt assembly per Aero\\nFabricators Installation Instructions AF-44, Revision A, dated January 12, 1993,\\nor later FAA approved revisions.\\nDate of application: July 2, 1992\\nDate of issuance:\\nFAA FORM 8110-2 (10-68)\\n',\n",
       "  'This approval should not be extended to other aircraft of this model on\\nwhich other previously approved modifications are incorporated, unless it\\nis determined by the installer that the interrelationship between this\\nchange and any of those other previously approved modifications will\\nintroduce no adverse effect upon the airworthiness of that aircraft.\\nMake Piper Aircraft Corp.\\nModel:',\n",
       "  'O\\nUnited States of America\\nDepartment of Transportation-Federal Aviation Administration\\nSupplemental Type Certificate\\nNumber SA00001CH\\nThis certificate, issued to\\ncertifies that the change in the type design for the following product with the limitations and conditions\\ntherefor as specified hereon meets the airworthiness requirements of Part 3\\nof the Civil Air\\nRegulations. (See Type Certificate Data Sheet No. 2A13 for complete\\ncertification basis.)\\nOriginal Product-Type Certificate Number: 2A13\\nDescription of Type Design Change:\\nAero Fabricators, Inc.\\n1216 North Road\\nLyons, WI 53148\\nInstall Aero Fabricators shoulder harness and seat belt assembly per Aero\\nFabricators Installation Instructions AF-44, Revision A, dated January 12, 1993,\\nor later FAA approved revisions.\\nDate of application: July 2, 1992\\nDate of issuance:\\nFAA FORM 8110-2 (10-68)\\nLimitations and Conditions:\\nThis approval should not be extended to other aircraft of this model on\\nwhich other previously approved modifications are incorporated, unless it\\nis determined by the installer that the interrelationship between this\\nchange and any of those other previously approved modifications will\\nintroduce no adverse effect upon the airworthiness of that aircraft.\\nMake Piper Aircraft Corp.\\nModel:\\nThis certificate and the supporting data which is the basis for approval shall remain in effect until sur-\\nrendered, suspended, revoked, or a termination date is otherwise established by the Administrator of the\\nFederal Aviation Administration.\\nFEDERAL\\nSA 1114CH-14\\nOctober 13, 1992\\nAVIATION\\n*\\nPA-28-140, PA-28-150, PA-28-151,\\nPA-28-160, PA-28-161, PA-28-180,\\nPA-28-235, PA-28R-180, PA-28R-200\\nPute reissued:\\nDate amended: July 6, 1995\\nBy direction of the Administrator\\nhay unitate\\nFor Charles L Smalley (Signature)\\nManager, Airframe and Administrative Branch\\nChicago Aircraft Certification Office\\n(Title)\\nAny alteration of this certificate is punishable by a fine of not exceeding $1,000, or imprisonment not exceeding 3 years, or both.\\nThis certificate may be transferred in accordance with FAR 21.47.'],\n",
       " ['FF54272797C6E9DB86257BA5005119BA',\n",
       "  'Installation of Spoilers, Inc. hydraulically actuated spoiler system in\\naccordance with Master Drawing List SP12,000 and Installation Instructions SP12,000, dated May 17, 1993, or later\\nFAA approved revision.\\n',\n",
       "  'Approval of this change in type design applies to the above model aircraft only. This\\napproval should not be exteded to other aircraft of this model on which other previously approved modifications are\\nincorporated unless it is determined that the relationship between this change and any of those other previously\\napproved modifications, including changes in type design, will introduce no adverse effect upon the airworthiness of that\\naircraft. A copy of this Certificate dated June 9, 1993, and Airplane Flight Manual Supplement, dated June 9, 1993,\\nmust be maintained as part of the permanent records for the modfied aircraft.',\n",
       "  'United States of America\\nDepartment of Transportation_Federal Aviation Administration\\nSupplemental Type Certificate\\nThis certificate, issued to\\nSpoilers, Inc.\\n1202 26th Avenue NW\\nGig Harbor, WA 98335\\ncertifies that the change in the type design for the following product with the limitations and conditions\\ntherefor as specified hereon meets the airworthiness requirements of Part 3 of the Civil Air Regulations.\\nMay 15, 1956\\nOriginal Product Type Certificate Number: A7CE\\nMake: Cessna\\nModel: 414\\nDescription of the Type Design Change: Installation of Spoilers, Inc. hydraulically actuated spoiler system in\\naccordance with Master Drawing List SP12,000 and Installation Instructions SP12,000, dated May 17, 1993, or later\\nFAA approved revision.\\nLimitations and Conditions: Approval of this change in type design applies to the above model aircraft only. This\\napproval should not be exteded to other aircraft of this model on which other previously approved modifications are\\nincorporated unless it is determined that the relationship between this change and any of those other previously\\napproved modifications, including changes in type design, will introduce no adverse effect upon the airworthiness of that\\naircraft. A copy of this Certificate dated June 9, 1993, and Airplane Flight Manual Supplement, dated June 9, 1993,\\nmust be maintained as part of the permanent records for the modfied aircraft.\\nThis certificate and the supporting data which is the basis for approval shall remain in effect until sur-\\nrendered, suspended, revoked, or a termination date is otherwise established by the Administrator of the\\nFederal Aviation Administration.\\nDate of application: May 5, 1993\\nDate of issuance:\\nJune 9, 1993\\nNumber SA00001 SE\\nFEDERAL\\nFAA FORM 8110-2(10-68)\\nAVIATION\\nADMINISTRATION\\nDate reissued:\\nDate amended:\\nJuly 9, 2013\\nBy direction of the Administrator\\nManager, Seattle Aircraft\\nCertification Office\\n(Signature)\\n(Title)\\nAny alteration of this certificate is punishable by a fine of not exceeding $1,000, or imprisonment not exceeding 3 years, or both.\\nThis certificate may be transferred in accordance with FAR 21.47.'],\n",
       " ['7B567CD4F182FBDB85256CC1007DC6F6',\n",
       "  'Installation of Spoilers, Inc. hydraulically\\nactuated spoiler system in accordance with Master Drawing List SP12,000 and\\nInstallation Instructions SP12,000, dated May 17, 1993, or later FAA approved revision.\\n',\n",
       "  'Approval of this change in type design applies to the above\\nmodel aircraft only. This approval should not be extended to other aircraft of this\\nmodel on which other previously approved modifications are incorporated unless it is\\ndetermined that the relationship between this change and any of those other previously\\napproved modifications, including changes in type design, will introduce no adverse\\neffect upon the airworthiness of that aircraft. A copy of this Certificate dated June\\n9, 1993, and Airplane Flight Manual Supplement, dated June 9, 1993, must be maintained\\nas part of the permanent records for the modified aircraft.',\n",
       "  'United States of America\\nDepartment of Transportation-federal Aviation Administration\\nSupplemental Type Certificate\\nNumber SA00001SE\\nThis certificate, issued to\\ncertifies that the change in the type design for the following product with the limitations and conditions\\ntherefor as specified hereon meets the airworthiness requirements of Part 3\\nof the Civil Air\\nRegulations May 15, 1956\\nOriginal Product-Type Certificate Number A7CE\\nMake:\\nCessna\\nModel: 414\\nSpoilers, Inc.\\nDescription of Type Design Change: Installation of Spoilers, Inc. hydraulically\\nactuated spoiler system in accordance with Master Drawing List SP12,000 and\\nInstallation Instructions SP12,000, dated May 17, 1993, or later FAA approved revision.\\nLimitations and Conditions: Approval of this change in type design applies to the above\\nmodel aircraft only. This approval should not be extended to other aircraft of this\\nmodel on which other previously approved modifications are incorporated unless it is\\ndetermined that the relationship between this change and any of those other previously\\napproved modifications, including changes in type design, will introduce no adverse\\neffect upon the airworthiness of that aircraft. A copy of this Certificate dated June\\n9, 1993, and Airplane Flight Manual Supplement, dated June 9, 1993, must be maintained\\nas part of the permanent records for the modified aircraft.\\nThis certificate and the supporting data which is the basis for approval shall remain in effect until sur-\\nrendered, suspended, revoked, or a termination date is otherwise established by the Administrator of the\\nFederal Aviation Administration.\\nDate of application: May 5, 1993\\nDate of issuance: June\\n9, 1993\\nFEDERAL\\nADMIN\\nFAA FORM 8110-2 [10-68)\\nAVIATION\\nPale wissued:\\nDate amended\\nBy direction of the Administrator\\nAdungsstrate\\nManager, Special effication Branch\\nSeattle Aircraft Certification Office\\n(Title)\\nAny alteration of this certificate is punishable by a fine of not exceeding $1,000, or imprisonment not exceeding 3 years, or both.\\nThis certificate may be transferred in accordance with FAR 21.47.']]"
      ]
     },
     "execution_count": 27,
     "metadata": {},
     "output_type": "execute_result"
    }
   ],
   "source": [
    "decoded_pdf[2:5]"
   ]
  },
  {
   "cell_type": "code",
   "execution_count": 41,
   "metadata": {},
   "outputs": [
    {
     "name": "stderr",
     "output_type": "stream",
     "text": [
      "c:\\Users\\victor\\anaconda3\\envs\\faa-nlp-drs\\Lib\\site-packages\\pyarrow\\pandas_compat.py:373: FutureWarning: is_sparse is deprecated and will be removed in a future version. Check `isinstance(dtype, pd.SparseDtype)` instead.\n",
      "  if _pandas_api.is_sparse(col):\n"
     ]
    }
   ],
   "source": [
    "import os\n",
    "import glob\n",
    "import pandas as pd\n",
    "import logging\n",
    "import pdfplumber\n",
    "import PyMuPDF\n",
    "\n",
    "logging.basicConfig(filename='17_stc_text_extractor.log', encoding='utf-8',format='%(asctime)s %(message)s', level=logging.INFO)\n",
    "\n",
    "for ocr_option in ['googlevision', 'pdfplumber']:\n",
    "    text_source = 'text-from-pdf-'+ocr_option\n",
    "\n",
    "    if ocr_option=='pdfplumber':\n",
    "        available_txts = glob.glob(os.path.join(os.getcwd(),'database','data','stc','pdf','*.pdf'))\n",
    "    elif ocr_option=='googlevision':\n",
    "        available_txts = glob.glob(os.path.join(os.getcwd(),'database','data','stc','text-from-pdf','*.txt'))\n",
    "\n",
    "    decoded_pdf = [[]]\n",
    "\n",
    "    for path_file in available_txts:\n",
    "        try:\n",
    "            if ocr_option=='pdfplumber':\n",
    "                with pdfplumber.open(path_file) as opened_pdf:    \n",
    "                    raw_text_pagesplit = [str(this_page.extract_text())+'\\n' for this_page in opened_pdf.pages] \n",
    "            elif ocr_option=='googlevision':\n",
    "                with open(path_file, 'r', encoding=\"utf8\") as f:\n",
    "                    raw_text = f.read()\n",
    "                    raw_text_pagesplit = raw_text.split(\"\\n\\n\")\n",
    "\n",
    "            decoded_pdf.append([path_file.split('__')[-1][:-4],\n",
    "                                list2text_frompdf(get_all_descriptions(raw_text_pagesplit)),\n",
    "                                list2text_frompdf(get_all_limitations(raw_text_pagesplit)),\n",
    "                                \"\\n\\n\".join(raw_text_pagesplit)\n",
    "                                ])\n",
    "\n",
    "        except Exception as e:\n",
    "            logging.info('Failed for '+path_file+' with Exception: '+str(e))\n",
    "            decoded_pdf.append([path_file.split('__')[-1][:-4],\n",
    "                                '',\n",
    "                                '',\n",
    "                                ''])\n",
    "\n",
    "    df_pdf_content = pd.DataFrame(decoded_pdf,\n",
    "                                columns=['documentGuid', \n",
    "                                        'descriptions', \n",
    "                                        'limitations',\n",
    "                                        'rawtext'])    \n",
    "    df_pdf_content = df_pdf_content.astype(\"string\")\n",
    "\n",
    "    df_pdf_content.to_parquet(os.path.join(os.getcwd(),'database','decoded_pdf_using_'+text_source+'.parquet'))\n"
   ]
  }
 ],
 "metadata": {
  "kernelspec": {
   "display_name": "base",
   "language": "python",
   "name": "python3"
  },
  "language_info": {
   "codemirror_mode": {
    "name": "ipython",
    "version": 3
   },
   "file_extension": ".py",
   "mimetype": "text/x-python",
   "name": "python",
   "nbconvert_exporter": "python",
   "pygments_lexer": "ipython3",
   "version": "3.11.5"
  },
  "orig_nbformat": 4,
  "vscode": {
   "interpreter": {
    "hash": "8c49a9e6d6b122d0bc46f085b0f9b84866f77188fdff3252b8a9eae176833897"
   }
  }
 },
 "nbformat": 4,
 "nbformat_minor": 2
}
